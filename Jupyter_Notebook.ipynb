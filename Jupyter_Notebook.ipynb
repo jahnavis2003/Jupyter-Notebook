{
 "cells": [
  {
   "cell_type": "markdown",
   "metadata": {},
   "source": [
    "<center>\n",
    "    <img src=\"https://s3-api.us-geo.objectstorage.softlayer.net/cf-courses-data/CognitiveClass/Logos/organization_logo/organization_logo.png\" width=\"300\" alt=\"cognitiveclass.ai logo\"  />\n",
    "</center>\n"
   ]
  },
  {
   "cell_type": "markdown",
   "metadata": {},
   "source": [
    "# My Jupyter Notebook on IBM Watson Studio\n",
    "\n",
    "\n"
   ]
  },
  {
   "cell_type": "markdown",
   "metadata": {},
   "source": [
    "**JAHNAVI SIRIPURAPU**\n",
    "\n",
    "Desired role - Data Scientist in the field of statistics "
   ]
  },
  {
   "cell_type": "markdown",
   "metadata": {},
   "source": [
    "*I'm interested in Data Science because I love statistics and I've been all about math since I was a kid, and I'm very fond of computers and tech-related things, so I chose to become a data scientist*"
   ]
  },
  {
   "cell_type": "markdown",
   "metadata": {},
   "source": [
    "### I'm going to show you how to do simple mathematical operations"
   ]
  },
  {
   "cell_type": "code",
   "execution_count": 5,
   "metadata": {},
   "outputs": [
    {
     "name": "stdout",
     "output_type": "stream",
     "text": [
      "10\n",
      "16\n",
      "256\n",
      "6\n"
     ]
    }
   ],
   "source": [
    "a=2\n",
    "b=8\n",
    "c=a+b\n",
    "d=a*b\n",
    "e=a**b\n",
    "f=b-a\n",
    "print(c)\n",
    "print(d)\n",
    "print(e)\n",
    "print(f)\n"
   ]
  },
  {
   "cell_type": "markdown",
   "metadata": {},
   "source": [
    "## Squares&CubesTable :\n",
    "\n",
    "|NUMBER| SQUARE | CUBE    | \n",
    "|------|--------|---------|\n",
    "|  1   | 1^2=1  |1^3=1    | \n",
    "|  2   | 2^2=2  |2^3=8    |\n",
    "|  3   | 3^2=9  |3^3=27   | \n",
    "|  4   | 4^2=16 |4^3=64   |\n",
    "|  5   | 5^2=25 |5^3=125  | \n",
    "|  6   | 6^2=36 |6^3=216  |\n",
    "|  7   | 7^2=49 |7^3=243  | \n",
    "|  8   | 8^2=64 |8^3=512  |\n",
    "|  9   | 9^2=81 |9^3=729  | \n",
    "|  10  |10^2=100|10^3=1000|"
   ]
  },
  {
   "cell_type": "markdown",
   "metadata": {},
   "source": [
    "## Simple mathematical operationsused above:\n",
    "\n",
    "-   Addition: +\n",
    "-   Subtraction: -\n",
    "-   Multiplication: *\n",
    "-   Power: **"
   ]
  },
  {
   "cell_type": "code",
   "execution_count": null,
   "metadata": {},
   "outputs": [],
   "source": []
  }
 ],
 "metadata": {
  "kernelspec": {
   "display_name": "Python",
   "language": "python",
   "name": "conda-env-python-py"
  },
  "language_info": {
   "codemirror_mode": {
    "name": "ipython",
    "version": 3
   },
   "file_extension": ".py",
   "mimetype": "text/x-python",
   "name": "python",
   "nbconvert_exporter": "python",
   "pygments_lexer": "ipython3",
   "version": "3.7.12"
  }
 },
 "nbformat": 4,
 "nbformat_minor": 4
}
